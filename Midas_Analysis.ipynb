{
 "cells": [
  {
   "cell_type": "code",
   "execution_count": 10,
   "metadata": {},
   "outputs": [],
   "source": [
    "import pandas as pd\n",
    "import os\n",
    "import numpy as np\n",
    "import matplotlib.pyplot as plt\n",
    "import json\n",
    "import datetime as dt\n",
    "from bs4 import BeautifulSoup as bs\n",
    "from urllib.request import urlopen as uReq\n",
    "import requests\n",
    "from pprint import pprint"
   ]
  },
  {
   "cell_type": "code",
   "execution_count": 11,
   "metadata": {},
   "outputs": [
    {
     "data": {
      "text/html": [
       "<div>\n",
       "<style scoped>\n",
       "    .dataframe tbody tr th:only-of-type {\n",
       "        vertical-align: middle;\n",
       "    }\n",
       "\n",
       "    .dataframe tbody tr th {\n",
       "        vertical-align: top;\n",
       "    }\n",
       "\n",
       "    .dataframe thead th {\n",
       "        text-align: right;\n",
       "    }\n",
       "</style>\n",
       "<table border=\"1\" class=\"dataframe\">\n",
       "  <thead>\n",
       "    <tr style=\"text-align: right;\">\n",
       "      <th></th>\n",
       "      <th>Name</th>\n",
       "      <th>Education</th>\n",
       "      <th>Notable_Deal</th>\n",
       "      <th>Undergraduate</th>\n",
       "      <th>Master's</th>\n",
       "    </tr>\n",
       "  </thead>\n",
       "  <tbody>\n",
       "    <tr>\n",
       "      <th>0</th>\n",
       "      <td>Neil Shen</td>\n",
       "      <td>Bachelor of Arts/Science, Shanghai Jiaotong Un...</td>\n",
       "      <td>Alibaba</td>\n",
       "      <td>Bachelor of Arts/Science, Shanghai Jiaotong Un...</td>\n",
       "      <td>Master of Arts, Yale University</td>\n",
       "    </tr>\n",
       "    <tr>\n",
       "      <th>1</th>\n",
       "      <td>Bill Gurley</td>\n",
       "      <td>Bachelor of Arts/Science, University of Florid...</td>\n",
       "      <td>Uber</td>\n",
       "      <td>Bachelor of Arts/Science, University of Florida</td>\n",
       "      <td>Master of Business Administration, Red McCombs...</td>\n",
       "    </tr>\n",
       "    <tr>\n",
       "      <th>2</th>\n",
       "      <td>Jim Goetz</td>\n",
       "      <td>Bachelor of Arts/Science, University of Cincin...</td>\n",
       "      <td>WhatsApp</td>\n",
       "      <td>Bachelor of Arts/Science, University of Cincin...</td>\n",
       "      <td>Master of Science, Stanford University</td>\n",
       "    </tr>\n",
       "    <tr>\n",
       "      <th>3</th>\n",
       "      <td>Carl Gordon</td>\n",
       "      <td>Bachelor of Arts/Science, Harvard University; ...</td>\n",
       "      <td>Acerta</td>\n",
       "      <td>Bachelor of Arts/Science, Harvard University</td>\n",
       "      <td>Ph.D, Massachusetts Institute of Technology</td>\n",
       "    </tr>\n",
       "    <tr>\n",
       "      <th>4</th>\n",
       "      <td>Robert Nelsen</td>\n",
       "      <td>Bachelor of Arts/Science, University of Puget ...</td>\n",
       "      <td>Juno Therapeutics</td>\n",
       "      <td>Bachelor of Arts/Science, University of Puget ...</td>\n",
       "      <td>Master of Business Administration, University ...</td>\n",
       "    </tr>\n",
       "  </tbody>\n",
       "</table>\n",
       "</div>"
      ],
      "text/plain": [
       "            Name                                          Education  \\\n",
       "0      Neil Shen  Bachelor of Arts/Science, Shanghai Jiaotong Un...   \n",
       "1    Bill Gurley  Bachelor of Arts/Science, University of Florid...   \n",
       "2      Jim Goetz  Bachelor of Arts/Science, University of Cincin...   \n",
       "3    Carl Gordon  Bachelor of Arts/Science, Harvard University; ...   \n",
       "4  Robert Nelsen  Bachelor of Arts/Science, University of Puget ...   \n",
       "\n",
       "        Notable_Deal                                      Undergraduate  \\\n",
       "0            Alibaba  Bachelor of Arts/Science, Shanghai Jiaotong Un...   \n",
       "1               Uber    Bachelor of Arts/Science, University of Florida   \n",
       "2           WhatsApp  Bachelor of Arts/Science, University of Cincin...   \n",
       "3             Acerta       Bachelor of Arts/Science, Harvard University   \n",
       "4  Juno Therapeutics  Bachelor of Arts/Science, University of Puget ...   \n",
       "\n",
       "                                            Master's  \n",
       "0                    Master of Arts, Yale University  \n",
       "1  Master of Business Administration, Red McCombs...  \n",
       "2             Master of Science, Stanford University  \n",
       "3        Ph.D, Massachusetts Institute of Technology  \n",
       "4  Master of Business Administration, University ...  "
      ]
     },
     "execution_count": 11,
     "metadata": {},
     "output_type": "execute_result"
    }
   ],
   "source": [
    "df = pd.read_csv(\"Midas_List_Analysis_Standardized.csv\")\n",
    "df.head()"
   ]
  },
  {
   "cell_type": "code",
   "execution_count": null,
   "metadata": {},
   "outputs": [],
   "source": []
  }
 ],
 "metadata": {
  "kernelspec": {
   "display_name": "Python 3",
   "language": "python",
   "name": "python3"
  },
  "language_info": {
   "codemirror_mode": {
    "name": "ipython",
    "version": 3
   },
   "file_extension": ".py",
   "mimetype": "text/x-python",
   "name": "python",
   "nbconvert_exporter": "python",
   "pygments_lexer": "ipython3",
   "version": "3.6.4"
  }
 },
 "nbformat": 4,
 "nbformat_minor": 2
}
