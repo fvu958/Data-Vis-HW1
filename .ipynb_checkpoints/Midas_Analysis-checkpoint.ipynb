{
 "cells": [
  {
   "cell_type": "code",
   "execution_count": 1,
   "metadata": {},
   "outputs": [],
   "source": [
    "import pandas as pd\n",
    "import os\n",
    "import numpy as np\n",
    "import matplotlib.pyplot as plt\n",
    "import json\n",
    "import datetime as dt\n",
    "from bs4 import BeautifulSoup as bs\n",
    "from urllib.request import urlopen as uReq\n",
    "import requests\n",
    "from pprint import pprint"
   ]
  },
  {
   "cell_type": "code",
   "execution_count": 2,
   "metadata": {},
   "outputs": [
    {
     "data": {
      "text/html": [
       "<div>\n",
       "<style scoped>\n",
       "    .dataframe tbody tr th:only-of-type {\n",
       "        vertical-align: middle;\n",
       "    }\n",
       "\n",
       "    .dataframe tbody tr th {\n",
       "        vertical-align: top;\n",
       "    }\n",
       "\n",
       "    .dataframe thead th {\n",
       "        text-align: right;\n",
       "    }\n",
       "</style>\n",
       "<table border=\"1\" class=\"dataframe\">\n",
       "  <thead>\n",
       "    <tr style=\"text-align: right;\">\n",
       "      <th></th>\n",
       "      <th>Name</th>\n",
       "      <th>Education</th>\n",
       "      <th>Notable_Deal</th>\n",
       "      <th>Undergraduate</th>\n",
       "      <th>Masters</th>\n",
       "    </tr>\n",
       "  </thead>\n",
       "  <tbody>\n",
       "    <tr>\n",
       "      <th>0</th>\n",
       "      <td>Neil Shen</td>\n",
       "      <td>Bachelor of Arts/Science, Shanghai Jiaotong Un...</td>\n",
       "      <td>Alibaba</td>\n",
       "      <td>Bachelor of Arts/Science, Shanghai Jiaotong Un...</td>\n",
       "      <td>Master of Arts, Yale University</td>\n",
       "    </tr>\n",
       "    <tr>\n",
       "      <th>1</th>\n",
       "      <td>Bill Gurley</td>\n",
       "      <td>Bachelor of Arts/Science, University of Florid...</td>\n",
       "      <td>Uber</td>\n",
       "      <td>Bachelor of Arts/Science, University of Florida</td>\n",
       "      <td>Master of Business Administration, University ...</td>\n",
       "    </tr>\n",
       "    <tr>\n",
       "      <th>2</th>\n",
       "      <td>Jim Goetz</td>\n",
       "      <td>Bachelor of Arts/Science, University of Cincin...</td>\n",
       "      <td>WhatsApp</td>\n",
       "      <td>Bachelor of Arts/Science, University of Cincin...</td>\n",
       "      <td>Master of Science, Stanford University</td>\n",
       "    </tr>\n",
       "    <tr>\n",
       "      <th>3</th>\n",
       "      <td>Carl Gordon</td>\n",
       "      <td>Bachelor of Arts/Science, Harvard University; ...</td>\n",
       "      <td>Acerta</td>\n",
       "      <td>Bachelor of Arts/Science, Harvard University</td>\n",
       "      <td>Ph.D, Massachusetts Institute of Technology</td>\n",
       "    </tr>\n",
       "    <tr>\n",
       "      <th>4</th>\n",
       "      <td>Robert Nelsen</td>\n",
       "      <td>Bachelor of Arts/Science, University of Puget ...</td>\n",
       "      <td>Juno Therapeutics</td>\n",
       "      <td>Bachelor of Arts/Science, University of Puget ...</td>\n",
       "      <td>Master of Business Administration, University ...</td>\n",
       "    </tr>\n",
       "  </tbody>\n",
       "</table>\n",
       "</div>"
      ],
      "text/plain": [
       "            Name                                          Education  \\\n",
       "0      Neil Shen  Bachelor of Arts/Science, Shanghai Jiaotong Un...   \n",
       "1    Bill Gurley  Bachelor of Arts/Science, University of Florid...   \n",
       "2      Jim Goetz  Bachelor of Arts/Science, University of Cincin...   \n",
       "3    Carl Gordon  Bachelor of Arts/Science, Harvard University; ...   \n",
       "4  Robert Nelsen  Bachelor of Arts/Science, University of Puget ...   \n",
       "\n",
       "        Notable_Deal                                      Undergraduate  \\\n",
       "0            Alibaba  Bachelor of Arts/Science, Shanghai Jiaotong Un...   \n",
       "1               Uber    Bachelor of Arts/Science, University of Florida   \n",
       "2           WhatsApp  Bachelor of Arts/Science, University of Cincin...   \n",
       "3             Acerta       Bachelor of Arts/Science, Harvard University   \n",
       "4  Juno Therapeutics  Bachelor of Arts/Science, University of Puget ...   \n",
       "\n",
       "                                             Masters  \n",
       "0                    Master of Arts, Yale University  \n",
       "1  Master of Business Administration, University ...  \n",
       "2             Master of Science, Stanford University  \n",
       "3        Ph.D, Massachusetts Institute of Technology  \n",
       "4  Master of Business Administration, University ...  "
      ]
     },
     "execution_count": 2,
     "metadata": {},
     "output_type": "execute_result"
    }
   ],
   "source": [
    "df = pd.read_csv(\"Midas_List_Analysis_Standardized.csv\")\n",
    "df.head()"
   ]
  },
  {
   "cell_type": "code",
   "execution_count": 3,
   "metadata": {},
   "outputs": [
    {
     "data": {
      "text/plain": [
       "0      Bachelor of Arts/Science, Shanghai Jiaotong Un...\n",
       "1        Bachelor of Arts/Science, University of Florida\n",
       "2      Bachelor of Arts/Science, University of Cincin...\n",
       "3           Bachelor of Arts/Science, Harvard University\n",
       "4      Bachelor of Arts/Science, University of Puget ...\n",
       "5            Bachelor of Arts/Science, DePauw University\n",
       "6          Bachelor of Arts/Science, Stanford University\n",
       "7           Bachelor of Arts/Science, University of Iowa\n",
       "8           Bachelor of Arts/Science, Cornell University\n",
       "9          Bachelor of Arts/Science, Stanford University\n",
       "10           Bachelor of Arts/Science, Dartmouth College\n",
       "11         Bachelor of Arts/Science, Stanford University\n",
       "12     Bachelor of Arts/Science, Wuhan University of ...\n",
       "13     Bachelor of Arts/Science, University of Cape Town\n",
       "14     Bachelor of Arts/Science, University of Califo...\n",
       "15           Bachelor of Arts/Science, Dartmouth College\n",
       "16     Bachelor of Arts/Science, University of Califo...\n",
       "17           Bachelor of Arts/Science, Dartmouth College\n",
       "18     Bachelor of Arts/Science, University of Pennsy...\n",
       "19         Bachelor of Arts/Science, Stanford University\n",
       "20          Bachelor of Arts/Science, Cornell University\n",
       "21         Bachelor of Arts/Science, Stanford University\n",
       "22     Bachelor of Arts/Science, University of Scienc...\n",
       "23     Bachelor of Arts/Science, Central Conservatory...\n",
       "24             Bachelor of Arts/Science, Amherst College\n",
       "25           Bachelor of Arts/Science, Dartmouth College\n",
       "26     Bachelor of Arts/Science, University of Washin...\n",
       "27           Bachelor of Arts/Science, Dartmouth College\n",
       "28             Bachelor of Arts/Science, Rice University\n",
       "29     Bachelor of Arts/Science, Massachusetts Instit...\n",
       "                             ...                        \n",
       "116    Bachelor of Arts/Science, University of Scienc...\n",
       "117        Bachelor of Arts/Science, Stanford University\n",
       "118           Bachelor of Arts/Science, Williams College\n",
       "119          Bachelor of Arts/Science, Dartmouth College\n",
       "120        Bachelor of Arts/Science, Columbia University\n",
       "121    Bachelor of Arts/Science, University of Califo...\n",
       "122    Bachelor of Arts/Science, Johns Hopkins Univer...\n",
       "123           Master of Arts, University of Pennsylvania\n",
       "124               Bachelor of Arts/Science, Reed College\n",
       "125        Bachelor of Arts/Science, Shanghai University\n",
       "126         Bachelor of Arts/Science, Clemson University\n",
       "127    Bachelor of Science/Master of Science, Univers...\n",
       "128         Bachelor of Arts/Science, Harvard University\n",
       "129        Bachelor of Arts/Science, Stanford University\n",
       "130         Bachelor of Arts/Science, Harvard University\n",
       "131       Bachelor of Arts/Science, Princeton University\n",
       "132           Bachelor of Arts/Science, Brown University\n",
       "133    Bachelor of Arts/Science, Christ Church Oxford...\n",
       "134           Bachelor of Arts/Science, Brown University\n",
       "135         Bachelor of Arts/Science, Cornell University\n",
       "136    Bachelor of Arts/Science, Johns Hopkins Univer...\n",
       "137                                           None, None\n",
       "138         Bachelor of Arts/Science, Colgate University\n",
       "139    Bachelor of Arts/Science, University of Califo...\n",
       "140          Bachelor of Arts/Science, Dartmouth College\n",
       "141            Bachelor of Arts/Science, Duke University\n",
       "142                                           None, None\n",
       "143            Bachelor of Arts/Science, Rice University\n",
       "144     Bachelor of Arts/Science, University of Michigan\n",
       "145        Bachelor of Arts/Science, Stanford University\n",
       "Name: Undergraduate, Length: 146, dtype: object"
      ]
     },
     "execution_count": 3,
     "metadata": {},
     "output_type": "execute_result"
    }
   ],
   "source": [
    "df['Undergraduate']"
   ]
  },
  {
   "cell_type": "code",
   "execution_count": 4,
   "metadata": {},
   "outputs": [],
   "source": [
    "undergradlist = df['Undergraduate'].dropna(how='all')"
   ]
  },
  {
   "cell_type": "code",
   "execution_count": 5,
   "metadata": {
    "scrolled": true
   },
   "outputs": [
    {
     "data": {
      "text/plain": [
       "0      [Bachelor of Arts/Science,  Shanghai Jiaotong ...\n",
       "1      [Bachelor of Arts/Science,  University of Flor...\n",
       "2      [Bachelor of Arts/Science,  University of Cinc...\n",
       "3        [Bachelor of Arts/Science,  Harvard University]\n",
       "4      [Bachelor of Arts/Science,  University of Puge...\n",
       "5         [Bachelor of Arts/Science,  DePauw University]\n",
       "6       [Bachelor of Arts/Science,  Stanford University]\n",
       "7        [Bachelor of Arts/Science,  University of Iowa]\n",
       "8        [Bachelor of Arts/Science,  Cornell University]\n",
       "9       [Bachelor of Arts/Science,  Stanford University]\n",
       "10        [Bachelor of Arts/Science,  Dartmouth College]\n",
       "11      [Bachelor of Arts/Science,  Stanford University]\n",
       "12     [Bachelor of Arts/Science,  Wuhan University o...\n",
       "13     [Bachelor of Arts/Science,  University of Cape...\n",
       "14     [Bachelor of Arts/Science,  University of Cali...\n",
       "15        [Bachelor of Arts/Science,  Dartmouth College]\n",
       "16     [Bachelor of Arts/Science,  University of Cali...\n",
       "17        [Bachelor of Arts/Science,  Dartmouth College]\n",
       "18     [Bachelor of Arts/Science,  University of Penn...\n",
       "19      [Bachelor of Arts/Science,  Stanford University]\n",
       "20       [Bachelor of Arts/Science,  Cornell University]\n",
       "21      [Bachelor of Arts/Science,  Stanford University]\n",
       "22     [Bachelor of Arts/Science,  University of Scie...\n",
       "23     [Bachelor of Arts/Science,  Central Conservato...\n",
       "24          [Bachelor of Arts/Science,  Amherst College]\n",
       "25        [Bachelor of Arts/Science,  Dartmouth College]\n",
       "26     [Bachelor of Arts/Science,  University of Wash...\n",
       "27        [Bachelor of Arts/Science,  Dartmouth College]\n",
       "28          [Bachelor of Arts/Science,  Rice University]\n",
       "29     [Bachelor of Arts/Science,  Massachusetts Inst...\n",
       "                             ...                        \n",
       "116    [Bachelor of Arts/Science,  University of Scie...\n",
       "117     [Bachelor of Arts/Science,  Stanford University]\n",
       "118        [Bachelor of Arts/Science,  Williams College]\n",
       "119       [Bachelor of Arts/Science,  Dartmouth College]\n",
       "120     [Bachelor of Arts/Science,  Columbia University]\n",
       "121    [Bachelor of Arts/Science,  University of Cali...\n",
       "122    [Bachelor of Arts/Science,  Johns Hopkins Univ...\n",
       "123        [Master of Arts,  University of Pennsylvania]\n",
       "124            [Bachelor of Arts/Science,  Reed College]\n",
       "125     [Bachelor of Arts/Science,  Shanghai University]\n",
       "126      [Bachelor of Arts/Science,  Clemson University]\n",
       "127    [Bachelor of Science/Master of Science,  Unive...\n",
       "128      [Bachelor of Arts/Science,  Harvard University]\n",
       "129     [Bachelor of Arts/Science,  Stanford University]\n",
       "130      [Bachelor of Arts/Science,  Harvard University]\n",
       "131    [Bachelor of Arts/Science,  Princeton University]\n",
       "132        [Bachelor of Arts/Science,  Brown University]\n",
       "133    [Bachelor of Arts/Science,  Christ Church Oxfo...\n",
       "134        [Bachelor of Arts/Science,  Brown University]\n",
       "135      [Bachelor of Arts/Science,  Cornell University]\n",
       "136    [Bachelor of Arts/Science,  Johns Hopkins Univ...\n",
       "137                                        [None,  None]\n",
       "138      [Bachelor of Arts/Science,  Colgate University]\n",
       "139    [Bachelor of Arts/Science,  University of Cali...\n",
       "140       [Bachelor of Arts/Science,  Dartmouth College]\n",
       "141         [Bachelor of Arts/Science,  Duke University]\n",
       "142                                        [None,  None]\n",
       "143         [Bachelor of Arts/Science,  Rice University]\n",
       "144    [Bachelor of Arts/Science,  University of Mich...\n",
       "145     [Bachelor of Arts/Science,  Stanford University]\n",
       "Name: Undergraduate, Length: 146, dtype: object"
      ]
     },
     "execution_count": 5,
     "metadata": {},
     "output_type": "execute_result"
    }
   ],
   "source": [
    "undergradlist = undergradlist.str.split(',')\n",
    "undergradlist"
   ]
  },
  {
   "cell_type": "code",
   "execution_count": 6,
   "metadata": {},
   "outputs": [],
   "source": [
    "eduList = []\n",
    "\n",
    "for university in undergradlist:\n",
    "    school = university[1]\n",
    "    cleaned = school.lstrip()\n",
    "    eduList.append(cleaned)"
   ]
  },
  {
   "cell_type": "code",
   "execution_count": 7,
   "metadata": {},
   "outputs": [
    {
     "name": "stdout",
     "output_type": "stream",
     "text": [
      "['Shanghai Jiaotong University', 'University of Florida', 'University of Cincinnati', 'Harvard University', 'University of Puget Sound']\n"
     ]
    }
   ],
   "source": [
    "print(eduList[:5])"
   ]
  },
  {
   "cell_type": "code",
   "execution_count": 8,
   "metadata": {},
   "outputs": [
    {
     "data": {
      "text/plain": [
       "0                     [Master of Arts,  Yale University]\n",
       "1      [Master of Business Administration,  Universit...\n",
       "2              [Master of Science,  Stanford University]\n",
       "3         [Ph.D,  Massachusetts Institute of Technology]\n",
       "4      [Master of Business Administration,  Universit...\n",
       "5      [Master of Business Administration,  Cornell U...\n",
       "6      [Master of Business Administration,  Stanford ...\n",
       "7      [Master of Business Administration,  Universit...\n",
       "8      [Master of Business Administration,  Massachus...\n",
       "9                                          [None,  None]\n",
       "10     [Master of Business Administration,  Harvard U...\n",
       "11     [Master of Business Administration,  Harvard U...\n",
       "12     [Master of Business Administration,  Tsinghua ...\n",
       "13     [Master of Business Administration,  Stanford ...\n",
       "14                                         [None,  None]\n",
       "15     [Master of Business Administration,  Stanford ...\n",
       "16     [Master of Business Administration,  Columbia ...\n",
       "17                                         [None,  None]\n",
       "18                                         [None,  None]\n",
       "19     [Entrepreneurship,  Massachusetts Institute of...\n",
       "20     [Master of Business Administration,  Harvard U...\n",
       "21                                         [None,  None]\n",
       "22     [Master of Business Administration,  Universit...\n",
       "23         [Master of Arts,  University of Saskatchewan]\n",
       "24     [Master of Business Administration,  Stanford ...\n",
       "25     [Master of Business Administration,  Dartmouth...\n",
       "26     [Master of Business Administration,  Stanford ...\n",
       "27                      [Doctorate,  Harvard University]\n",
       "28                 [Master of Science,  Rice University]\n",
       "29     [Master of Business Administration,  Stanford ...\n",
       "                             ...                        \n",
       "116    [Master of Business Administration,  China Eur...\n",
       "117    [Master of Business Administration,  Northwest...\n",
       "118    [Master of Science,  Massachusetts Institute o...\n",
       "119    [Master of Business Administration,  Stanford ...\n",
       "120    [Master of Business Administration,  Stanford ...\n",
       "121                                        [None,  None]\n",
       "122      [Doctor of Jurisprudence,  New York University]\n",
       "123    [Master of Business Administration,  Universit...\n",
       "124                                        [None,  None]\n",
       "125    [EMBA,  China Europe International Business Sc...\n",
       "126    [Master of Business Administration,  Harvard U...\n",
       "127    [Master of Business Administration,  Stanford ...\n",
       "128    [Master of Business Administration,  Harvard U...\n",
       "129            [Master of Science,  Stanford University]\n",
       "130    [Master of Business Administration,  Harvard U...\n",
       "131                                        [None,  None]\n",
       "132    [Master of Business Administration,  Harvard U...\n",
       "133    [Master of Business Administration,  Universit...\n",
       "134    [Master of Business Administration,  Stanford ...\n",
       "135                                        [None,  None]\n",
       "136                                        [None,  None]\n",
       "137     [Master of Science,  Universite Paris Descartes]\n",
       "138           [Doctor of Jurisprudence,  Boston College]\n",
       "139    [Master of Business Administration,  Universit...\n",
       "140    [Master of Business Administration,  Harvard U...\n",
       "141    [Master of Business Administration,  Harvard U...\n",
       "142              [Master of Science,  Oxford University]\n",
       "143             [Doctorate,  University of Texas Austin]\n",
       "144               [Medical Doctor,  Stanford University]\n",
       "145            [Master of Science,  Stanford University]\n",
       "Name: Masters, Length: 146, dtype: object"
      ]
     },
     "execution_count": 8,
     "metadata": {},
     "output_type": "execute_result"
    }
   ],
   "source": [
    "masterslist = df['Masters'].dropna(how='all').str.split(',')\n",
    "masterslist"
   ]
  },
  {
   "cell_type": "code",
   "execution_count": 9,
   "metadata": {},
   "outputs": [],
   "source": [
    "otherlist = []\n",
    "\n",
    "for university in masterslist:\n",
    "    school = university[1]\n",
    "    cleaned = school.lstrip()\n",
    "    otherlist.append(cleaned)"
   ]
  },
  {
   "cell_type": "code",
   "execution_count": 10,
   "metadata": {},
   "outputs": [
    {
     "name": "stdout",
     "output_type": "stream",
     "text": [
      "['Yale University', 'University of Texas Austin', 'Stanford University', 'Massachusetts Institute of Technology', 'University of Chicago']\n"
     ]
    }
   ],
   "source": [
    "print(otherlist[:5])"
   ]
  },
  {
   "cell_type": "code",
   "execution_count": 11,
   "metadata": {},
   "outputs": [],
   "source": [
    "eduList = df['Undergraduate']\n",
    "undergradList = []\n",
    "\n",
    "for item in eduList:\n",
    "    school = item[0]\n",
    "    undergradList.append(school)"
   ]
  },
  {
   "cell_type": "code",
   "execution_count": 12,
   "metadata": {},
   "outputs": [
    {
     "data": {
      "text/plain": [
       "0                 Alibaba\n",
       "1                    Uber\n",
       "2                WhatsApp\n",
       "3                  Acerta\n",
       "4       Juno Therapeutics\n",
       "5                 Spotify\n",
       "6                  Docker\n",
       "7                   Meitu\n",
       "8               Rackspace\n",
       "9              Stemcentrx\n",
       "10                   Uber\n",
       "11                   Okta\n",
       "12               New Dada\n",
       "13                 Square\n",
       "14                 Twilio\n",
       "15               MuleSoft\n",
       "16                   Uber\n",
       "17                   Snap\n",
       "18        Flatiron Health\n",
       "19             Musical.ly\n",
       "20                  Coupa\n",
       "21                   Wish\n",
       "22                 Xiaomi\n",
       "23                 Meicai\n",
       "24                 Airbnb\n",
       "25                Jet.com\n",
       "26             Stitch Fix\n",
       "27           10x Genomics\n",
       "28                 Amazon\n",
       "29                Dropbox\n",
       "              ...        \n",
       "116                Xiaomi\n",
       "117                   Box\n",
       "118      Tableau Software\n",
       "119                   Box\n",
       "120     Qlik Technologies\n",
       "121                  Uber\n",
       "122               Twitter\n",
       "123             RPX Corp.\n",
       "124    Palo Alto Networks\n",
       "125                 Tudou\n",
       "126                 Sonos\n",
       "127                  Uber\n",
       "128        Nimble Storage\n",
       "129          Pure Storage\n",
       "130              LinkedIn\n",
       "131         Veeva Systems\n",
       "132                 MoPub\n",
       "133                Google\n",
       "134               WorkDay\n",
       "135                  Uber\n",
       "136                  Lyft\n",
       "137                Fitbit\n",
       "138             DataLogix\n",
       "139            Stemcentrx\n",
       "140            Stemcentrx\n",
       "141                Stripe\n",
       "142                  King\n",
       "143      Tableau Software\n",
       "144                Acerta\n",
       "145                SpaceX\n",
       "Name: Notable_Deal, Length: 146, dtype: object"
      ]
     },
     "execution_count": 12,
     "metadata": {},
     "output_type": "execute_result"
    }
   ],
   "source": [
    "df['Notable_Deal']"
   ]
  },
  {
   "cell_type": "code",
   "execution_count": 13,
   "metadata": {},
   "outputs": [
    {
     "name": "stdout",
     "output_type": "stream",
     "text": [
      "Facebook             8\n",
      "Uber                 7\n",
      "Spotify              5\n",
      "Twitter              4\n",
      "Airbnb               4\n",
      "Stemcentrx           3\n",
      "Snap                 3\n",
      "Lyft                 3\n",
      "AppDynamics          3\n",
      "Xiaomi               3\n",
      "Adyen                3\n",
      "Box                  2\n",
      "MuleSoft             2\n",
      "Acerta               2\n",
      "Stripe               2\n",
      "LinkedIn             2\n",
      "Okta                 2\n",
      "Lending Club         2\n",
      "Jet.com              2\n",
      "10x Genomics         2\n",
      "Meitu                2\n",
      "Tableau Software     2\n",
      "Dropbox              2\n",
      "Supercell            2\n",
      "Lemonade             2\n",
      "Slack                2\n",
      "Alibaba              2\n",
      "58.com               1\n",
      "SpaceX               1\n",
      "Coupa                1\n",
      "                    ..\n",
      "Amazon               1\n",
      "King                 1\n",
      "Credit Karma         1\n",
      "RPX Corp.            1\n",
      "Pure Storage         1\n",
      "None                 1\n",
      "Coinbase             1\n",
      "CreditEase           1\n",
      "Qlik Technologies    1\n",
      "Rong360              1\n",
      "Apigee               1\n",
      "Stitch Fix           1\n",
      "Shape Security       1\n",
      "Musical.ly           1\n",
      "FireEye              1\n",
      "MoPub                1\n",
      "YY                   1\n",
      "Fanatics             1\n",
      "Trulia               1\n",
      "Square               1\n",
      "Google               1\n",
      "RingCentral          1\n",
      "Qualtrics            1\n",
      "Fitbit               1\n",
      "Ascendis Pharma      1\n",
      "Sonos                1\n",
      "Delivery Hero        1\n",
      "Go-Jek Indonesia     1\n",
      "Veeva Systems        1\n",
      "Airwatch             1\n",
      "Name: Notable_Deal, Length: 95, dtype: int64\n"
     ]
    }
   ],
   "source": [
    "deal_count = df['Notable_Deal'].value_counts()\n",
    "print(deal_count)"
   ]
  },
  {
   "cell_type": "code",
   "execution_count": null,
   "metadata": {},
   "outputs": [],
   "source": []
  },
  {
   "cell_type": "code",
   "execution_count": 14,
   "metadata": {},
   "outputs": [],
   "source": [
    "import seaborn as sns\n",
    "%matplotlib inline"
   ]
  },
  {
   "cell_type": "code",
   "execution_count": 15,
   "metadata": {},
   "outputs": [
    {
     "data": {
      "text/html": [
       "<div>\n",
       "<style scoped>\n",
       "    .dataframe tbody tr th:only-of-type {\n",
       "        vertical-align: middle;\n",
       "    }\n",
       "\n",
       "    .dataframe tbody tr th {\n",
       "        vertical-align: top;\n",
       "    }\n",
       "\n",
       "    .dataframe thead th {\n",
       "        text-align: right;\n",
       "    }\n",
       "</style>\n",
       "<table border=\"1\" class=\"dataframe\">\n",
       "  <thead>\n",
       "    <tr style=\"text-align: right;\">\n",
       "      <th></th>\n",
       "      <th>Name</th>\n",
       "      <th>Education</th>\n",
       "      <th>Notable_Deal</th>\n",
       "      <th>Undergraduate</th>\n",
       "      <th>Masters</th>\n",
       "    </tr>\n",
       "  </thead>\n",
       "  <tbody>\n",
       "    <tr>\n",
       "      <th>0</th>\n",
       "      <td>Neil Shen</td>\n",
       "      <td>Bachelor of Arts/Science, Shanghai Jiaotong Un...</td>\n",
       "      <td>Alibaba</td>\n",
       "      <td>Bachelor of Arts/Science, Shanghai Jiaotong Un...</td>\n",
       "      <td>Master of Arts, Yale University</td>\n",
       "    </tr>\n",
       "    <tr>\n",
       "      <th>1</th>\n",
       "      <td>Bill Gurley</td>\n",
       "      <td>Bachelor of Arts/Science, University of Florid...</td>\n",
       "      <td>Uber</td>\n",
       "      <td>Bachelor of Arts/Science, University of Florida</td>\n",
       "      <td>Master of Business Administration, University ...</td>\n",
       "    </tr>\n",
       "    <tr>\n",
       "      <th>2</th>\n",
       "      <td>Jim Goetz</td>\n",
       "      <td>Bachelor of Arts/Science, University of Cincin...</td>\n",
       "      <td>WhatsApp</td>\n",
       "      <td>Bachelor of Arts/Science, University of Cincin...</td>\n",
       "      <td>Master of Science, Stanford University</td>\n",
       "    </tr>\n",
       "    <tr>\n",
       "      <th>3</th>\n",
       "      <td>Carl Gordon</td>\n",
       "      <td>Bachelor of Arts/Science, Harvard University; ...</td>\n",
       "      <td>Acerta</td>\n",
       "      <td>Bachelor of Arts/Science, Harvard University</td>\n",
       "      <td>Ph.D, Massachusetts Institute of Technology</td>\n",
       "    </tr>\n",
       "    <tr>\n",
       "      <th>4</th>\n",
       "      <td>Robert Nelsen</td>\n",
       "      <td>Bachelor of Arts/Science, University of Puget ...</td>\n",
       "      <td>Juno Therapeutics</td>\n",
       "      <td>Bachelor of Arts/Science, University of Puget ...</td>\n",
       "      <td>Master of Business Administration, University ...</td>\n",
       "    </tr>\n",
       "  </tbody>\n",
       "</table>\n",
       "</div>"
      ],
      "text/plain": [
       "            Name                                          Education  \\\n",
       "0      Neil Shen  Bachelor of Arts/Science, Shanghai Jiaotong Un...   \n",
       "1    Bill Gurley  Bachelor of Arts/Science, University of Florid...   \n",
       "2      Jim Goetz  Bachelor of Arts/Science, University of Cincin...   \n",
       "3    Carl Gordon  Bachelor of Arts/Science, Harvard University; ...   \n",
       "4  Robert Nelsen  Bachelor of Arts/Science, University of Puget ...   \n",
       "\n",
       "        Notable_Deal                                      Undergraduate  \\\n",
       "0            Alibaba  Bachelor of Arts/Science, Shanghai Jiaotong Un...   \n",
       "1               Uber    Bachelor of Arts/Science, University of Florida   \n",
       "2           WhatsApp  Bachelor of Arts/Science, University of Cincin...   \n",
       "3             Acerta       Bachelor of Arts/Science, Harvard University   \n",
       "4  Juno Therapeutics  Bachelor of Arts/Science, University of Puget ...   \n",
       "\n",
       "                                             Masters  \n",
       "0                    Master of Arts, Yale University  \n",
       "1  Master of Business Administration, University ...  \n",
       "2             Master of Science, Stanford University  \n",
       "3        Ph.D, Massachusetts Institute of Technology  \n",
       "4  Master of Business Administration, University ...  "
      ]
     },
     "execution_count": 15,
     "metadata": {},
     "output_type": "execute_result"
    }
   ],
   "source": [
    "df.head()"
   ]
  },
  {
   "cell_type": "code",
   "execution_count": 16,
   "metadata": {},
   "outputs": [
    {
     "data": {
      "text/plain": [
       "<bound method Series.unique of 0      Bachelor of Arts/Science, Shanghai Jiaotong Un...\n",
       "1        Bachelor of Arts/Science, University of Florida\n",
       "2      Bachelor of Arts/Science, University of Cincin...\n",
       "3           Bachelor of Arts/Science, Harvard University\n",
       "4      Bachelor of Arts/Science, University of Puget ...\n",
       "5            Bachelor of Arts/Science, DePauw University\n",
       "6          Bachelor of Arts/Science, Stanford University\n",
       "7           Bachelor of Arts/Science, University of Iowa\n",
       "8           Bachelor of Arts/Science, Cornell University\n",
       "9          Bachelor of Arts/Science, Stanford University\n",
       "10           Bachelor of Arts/Science, Dartmouth College\n",
       "11         Bachelor of Arts/Science, Stanford University\n",
       "12     Bachelor of Arts/Science, Wuhan University of ...\n",
       "13     Bachelor of Arts/Science, University of Cape Town\n",
       "14     Bachelor of Arts/Science, University of Califo...\n",
       "15           Bachelor of Arts/Science, Dartmouth College\n",
       "16     Bachelor of Arts/Science, University of Califo...\n",
       "17           Bachelor of Arts/Science, Dartmouth College\n",
       "18     Bachelor of Arts/Science, University of Pennsy...\n",
       "19         Bachelor of Arts/Science, Stanford University\n",
       "20          Bachelor of Arts/Science, Cornell University\n",
       "21         Bachelor of Arts/Science, Stanford University\n",
       "22     Bachelor of Arts/Science, University of Scienc...\n",
       "23     Bachelor of Arts/Science, Central Conservatory...\n",
       "24             Bachelor of Arts/Science, Amherst College\n",
       "25           Bachelor of Arts/Science, Dartmouth College\n",
       "26     Bachelor of Arts/Science, University of Washin...\n",
       "27           Bachelor of Arts/Science, Dartmouth College\n",
       "28             Bachelor of Arts/Science, Rice University\n",
       "29     Bachelor of Arts/Science, Massachusetts Instit...\n",
       "                             ...                        \n",
       "116    Bachelor of Arts/Science, University of Scienc...\n",
       "117        Bachelor of Arts/Science, Stanford University\n",
       "118           Bachelor of Arts/Science, Williams College\n",
       "119          Bachelor of Arts/Science, Dartmouth College\n",
       "120        Bachelor of Arts/Science, Columbia University\n",
       "121    Bachelor of Arts/Science, University of Califo...\n",
       "122    Bachelor of Arts/Science, Johns Hopkins Univer...\n",
       "123           Master of Arts, University of Pennsylvania\n",
       "124               Bachelor of Arts/Science, Reed College\n",
       "125        Bachelor of Arts/Science, Shanghai University\n",
       "126         Bachelor of Arts/Science, Clemson University\n",
       "127    Bachelor of Science/Master of Science, Univers...\n",
       "128         Bachelor of Arts/Science, Harvard University\n",
       "129        Bachelor of Arts/Science, Stanford University\n",
       "130         Bachelor of Arts/Science, Harvard University\n",
       "131       Bachelor of Arts/Science, Princeton University\n",
       "132           Bachelor of Arts/Science, Brown University\n",
       "133    Bachelor of Arts/Science, Christ Church Oxford...\n",
       "134           Bachelor of Arts/Science, Brown University\n",
       "135         Bachelor of Arts/Science, Cornell University\n",
       "136    Bachelor of Arts/Science, Johns Hopkins Univer...\n",
       "137                                           None, None\n",
       "138         Bachelor of Arts/Science, Colgate University\n",
       "139    Bachelor of Arts/Science, University of Califo...\n",
       "140          Bachelor of Arts/Science, Dartmouth College\n",
       "141            Bachelor of Arts/Science, Duke University\n",
       "142                                           None, None\n",
       "143            Bachelor of Arts/Science, Rice University\n",
       "144     Bachelor of Arts/Science, University of Michigan\n",
       "145        Bachelor of Arts/Science, Stanford University\n",
       "Name: Undergraduate, Length: 146, dtype: object>"
      ]
     },
     "execution_count": 16,
     "metadata": {},
     "output_type": "execute_result"
    }
   ],
   "source": [
    "eduList.unique"
   ]
  },
  {
   "cell_type": "code",
   "execution_count": 17,
   "metadata": {},
   "outputs": [
    {
     "data": {
      "text/plain": [
       "Bachelor of Arts/Science, Stanford University                              16\n",
       "Bachelor of Arts/Science, Harvard University                               11\n",
       "Bachelor of Arts/Science, Dartmouth College                                 9\n",
       "Bachelor of Arts/Science, University of Pennsylvania                        7\n",
       "Bachelor of Arts/Science, Massachusetts Institute of Technology             6\n",
       "Bachelor of Arts/Science, Cornell University                                6\n",
       "Bachelor of Arts/Science, Yale University                                   5\n",
       "Bachelor of Arts/Science, Brown University                                  4\n",
       "Bachelor of Arts/Science, University of Virginia                            3\n",
       "Bachelor of Arts/Science, Duke University                                   3\n",
       "Bachelor of Arts/Science, Indian Institute of Technology                    2\n",
       "Bachelor of Arts/Science, University of Michigan                            2\n",
       "Bachelor of Arts/Science, University of Florida                             2\n",
       "Bachelor of Arts/Science, Johns Hopkins University                          2\n",
       "Bachelor of Arts/Science, Shanghai Jiaotong University                      2\n",
       "Bachelor of Arts/Science, Washington University                             2\n",
       "None, None                                                                  2\n",
       "Bachelor of Arts/Science, Princeton University                              2\n",
       "Bachelor of Arts/Science, University of Science and Technology of China     2\n",
       "Bachelor of Arts/Science, University of California Berkeley                 2\n",
       "Bachelor of Arts/Science, Boston University                                 2\n",
       "Bachelor of Arts/Science, Columbia University                               2\n",
       "Bachelor of Arts/Science, Rice University                                   2\n",
       "Bachelor of Arts/Science, Central Conservatory of Music                     1\n",
       "Bachelor of Arts/Science, Georgetown University                             1\n",
       "Master of Science, Peking University                                        1\n",
       "Bachelor of Arts/Science, Tsinghua University                               1\n",
       "Bachelor of Arts/Science, University of Washington                          1\n",
       "Bachelor of Arts/Science, University of California, Berkeley                1\n",
       "Bachelor of Arts/Science, University of Cape Town                           1\n",
       "                                                                           ..\n",
       "Bachelor of Arts/Science, Australian National University                    1\n",
       "Bachelor of Arts/Science, University of Cincinnati                          1\n",
       "Bachelor of Arts/Science, University of Science and Technology Beijing      1\n",
       "Bachelor of Technology, Indian Institute of Technology Bombay               1\n",
       "Bachelor of Arts/Science, Barnard College                                   1\n",
       "Bachelor of Arts/Science, Christ Church Oxford University                   1\n",
       "Bachelor of Arts/Science, Colgate University                                1\n",
       "Bachelor of Arts/Science, Amherst College                                   1\n",
       "Bachelor of Arts/Science, University of California Los Angeles              1\n",
       "Master of Arts, Oxford University                                           1\n",
       "Bachelor of Arts/Science, Fudan University                                  1\n",
       "Bachelor of Science in Engineering, Shanghai Jiaotong University            1\n",
       "Bachelor of Arts/Science, Delhi College of Engineering                      1\n",
       "Bachelor of Arts/Science, University of Iowa                                1\n",
       "Bachelor of Arts/Science, Moscow State University                           1\n",
       "Bachelor of Arts/Science, University of California, Los Angeles             1\n",
       "Bachelor of Arts/Science, DePauw University                                 1\n",
       "Bachelor of Arts/Science, United States Air Force Academy                   1\n",
       "Bachelor of Science in Engineering, National University of Singapore        1\n",
       "Bachelor of Science in Engineering, Purdue University                       1\n",
       "Bachelor of Arts/Science, University of Arizona                             1\n",
       "Master of Business Administration, University of Fribourg                   1\n",
       "Bachelor of Arts/Science, Bryn Mawr College                                 1\n",
       "Bachelor of Arts/Science, Notre Dame University                             1\n",
       "Bachelor of Arts/Science, University of Missouri                            1\n",
       "Bachelor of Arts/Science, Boston College                                    1\n",
       "Bachelor of Arts/Science, Shanghai University                               1\n",
       "Bachelor of Arts/Science, Colby College                                     1\n",
       "Bachelor of Arts/Science, Williams College                                  1\n",
       "Bachelor of Arts/Science, San Jose State University                         1\n",
       "Name: Undergraduate, Length: 73, dtype: int64"
      ]
     },
     "execution_count": 17,
     "metadata": {},
     "output_type": "execute_result"
    }
   ],
   "source": [
    "under_edu_count = eduList.value_counts()\n",
    "under_edu_count"
   ]
  },
  {
   "cell_type": "code",
   "execution_count": 19,
   "metadata": {},
   "outputs": [],
   "source": [
    "under_sum = under_edu_count.sum()"
   ]
  },
  {
   "cell_type": "code",
   "execution_count": 21,
   "metadata": {},
   "outputs": [
    {
     "data": {
      "text/plain": [
       "49"
      ]
     },
     "execution_count": 21,
     "metadata": {},
     "output_type": "execute_result"
    }
   ],
   "source": [
    "top5_sum = under_edu_count.head().sum()\n",
    "top5_sum"
   ]
  },
  {
   "cell_type": "code",
   "execution_count": 22,
   "metadata": {},
   "outputs": [
    {
     "data": {
      "text/plain": [
       "0.3356164383561644"
      ]
     },
     "execution_count": 22,
     "metadata": {},
     "output_type": "execute_result"
    }
   ],
   "source": [
    "ivy_or_equivalent_percent = top5_sum/under_sum\n",
    "ivy_or_equivalent_percent"
   ]
  },
  {
   "cell_type": "code",
   "execution_count": null,
   "metadata": {},
   "outputs": [],
   "source": []
  }
 ],
 "metadata": {
  "kernelspec": {
   "display_name": "Python 3",
   "language": "python",
   "name": "python3"
  },
  "language_info": {
   "codemirror_mode": {
    "name": "ipython",
    "version": 3
   },
   "file_extension": ".py",
   "mimetype": "text/x-python",
   "name": "python",
   "nbconvert_exporter": "python",
   "pygments_lexer": "ipython3",
   "version": "3.6.4"
  }
 },
 "nbformat": 4,
 "nbformat_minor": 2
}
